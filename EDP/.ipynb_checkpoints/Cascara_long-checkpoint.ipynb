{
 "cells": [
  {
   "cell_type": "markdown",
   "metadata": {},
   "source": [
    " # Solución correspondiente a dos hemisferios a potenciales opuestos"
   ]
  },
  {
   "cell_type": "markdown",
   "metadata": {},
   "source": [
    "Aquí resolveremos numéricamente el problema de una cáscara con sus hemisferios a potenciales opuestos. La solución analítica se la puede encontrar, por ejemplo en: http://www.famaf.unc.edu.ar/~reula/Docencia/Electromagnetismo/electrodynamics.pdf, página 81.\n",
    "\n",
    "Debido a la simetría axial, la solución se puede expresar como una suma de polinomios de Legendre $P_n(x)$, donde $x=cos(\\theta)$ y potencias de r, la coordenada radial.\n",
    "\n",
    "\\begin{equation}\n",
    "\\phi(x,r) = \\sum_{n=0}^{\\infty} A_n r^{-(n+1)}P_n(x)\n",
    "\\end{equation}\n",
    "\n",
    "Supondremos que la cáscara tiene radio a y re-escalaremos la variable radial como $r \\to \\frac{r}{a}$, de esa manera queda adimensional y la cáscara a radio unidad.\n",
    "\n",
    "Debemos calcular ahora los coeficientes $A_n$. Notemos que $A_{2n}=0$ $ \\forall$ $ n $ ya que,\n",
    "la cáscara tiene simetría impar ante cambios $x \\to -x$ y por lo tanto ninguno de los polinomios pares puede contribuir.\n",
    "\n",
    "Los impares se calculan imponiendo la condición de contorno:\n",
    "\n",
    "\\begin{equation}\n",
    "\\phi(x,1) = V_0 \\theta(x)\n",
    "\\end{equation}\n",
    "\n",
    "donde $\\theta$ es la función escalón.\n",
    "\n",
    "Tomaremos $ V_0 = 1 $ en lo que sigue. Siempre se puede reescalear la solución al final.\n",
    "\n",
    "Tenemos así que (recordando que la cáscara está a $r=1$),\n",
    "\n",
    "\\begin{equation}\n",
    "\\theta(x) = \\sum_{n=0}^{\\infty} A_n P_n(x),\n",
    "\\end{equation}\n",
    "\n",
    "multiplicando por $P_{m}(x)$ ambos lados e integrando en $[-1,1]$ obtenemos,\n",
    "\n",
    "\\begin{equation}\n",
    "\\int_{-1}^{1} P_n(x) \\theta(x) dx = \\frac{2}{2n+1} A_n.\n",
    "\\end{equation}\n",
    "\n",
    "Haciendo solo las integrales entre $[0,1]$ y multiplicando por $2$, (ya que las funciones son impares) obtenemos,\n",
    "\n",
    "\\begin{equation}\n",
    "A_n = (2n+1) \\int_0^1 P_n(x) dx \\qquad \\mbox{impar}.\n",
    "\\end{equation}\n",
    "\n",
    "Haremos estos cálculos analíticamente y luego graficaremos la solución.\n",
    "\n",
    "Para ilustrar el caso donde es conveniente hacer las integrales en forma numérica consideraremos el caso,\n",
    "\n",
    "\\begin{equation}\n",
    "\\phi(x,1) = V_0 \\theta(x) e^{-x^2}.\n",
    "\\end{equation}\n",
    "\n",
    "Los coeficientes vendrán dados por:\n",
    "\n",
    "\\begin{equation}\n",
    "\\theta(x) e^{-x^2} = \\sum_{n=0}^{\\infty} B_n P_n(x),\n",
    "\\end{equation}\n",
    "\n",
    "\n",
    "\\begin{equation}\n",
    "B_n = (2n+1) \\int_0^1 P_n(x) e^{-x^2} dx \\qquad \\mbox{impar}.\n",
    "\\end{equation}\n",
    "\n",
    "A estos los calcularemos numéricamente."
   ]
  },
  {
   "cell_type": "code",
   "execution_count": null,
   "metadata": {},
   "outputs": [],
   "source": []
  }
 ],
 "metadata": {
  "kernelspec": {
   "display_name": "Python 3",
   "language": "python",
   "name": "python3"
  },
  "language_info": {
   "codemirror_mode": {
    "name": "ipython",
    "version": 3
   },
   "file_extension": ".py",
   "mimetype": "text/x-python",
   "name": "python",
   "nbconvert_exporter": "python",
   "pygments_lexer": "ipython3",
   "version": "3.8.2"
  }
 },
 "nbformat": 4,
 "nbformat_minor": 4
}
