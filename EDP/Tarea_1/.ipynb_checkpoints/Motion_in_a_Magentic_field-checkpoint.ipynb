{
 "cells": [
  {
   "cell_type": "markdown",
   "metadata": {},
   "source": [
    "## Curso: Ecuaciones Diferenciales Parciales\n",
    "### Oscar Reula & Manuel Tiglio"
   ]
  },
  {
   "cell_type": "markdown",
   "metadata": {},
   "source": [
    "## Movimiento de una Partícula Cargada en el Campo de un Dipolo Magnetico"
   ]
  },
  {
   "cell_type": "markdown",
   "metadata": {},
   "source": [
    "### Numerically computing the orbits of electrons in a external dipolar magnetic field configuration.\n"
   ]
  },
  {
   "cell_type": "markdown",
   "metadata": {},
   "source": [
    "The reference for this motion is: --Trapped Orbits in a Magnetic Dipole Field--, A. J. Dragt, Review of Geophysics, Vol. 3, Number 2, (1965), and --Global aspects of charged particle motion in axially symmetric multipole magnetic fields--, John V. Shebalin.The charge particle Lagrangian for a field with azimuthal symmetry is given by:\n",
    "\\begin{equation}\n",
    "\\mathcal{L} = -mc^2\\sqrt{1-v^2/c^2} + \\frac{e}{c}A(r,\\theta)r\\sin{\\theta} v^{\\phi},\n",
    "\\end{equation}\n",
    "where $A$ is the $z$ component of the vector potential.\n",
    "\n",
    "Recall that in these coordinates we have, $v^2 = \\dot{r}^2 + r^2 \\dot{\\theta}^2 + r^2\\sin^2(\\theta) \\dot{\\phi}^2$. It is convenient to redefine $A \\to A/c$ $ m = 1 $, $ e \\to e/m$, to get rid of irelevant parameters.\n",
    "\n",
    "Since the Lagrangian does not depend on time the energy is conserved. For this case, without and electrostatic potential, it is given by:\n",
    "\n",
    "\\begin{equation}\n",
    "H = \\frac{c^2}{\\sqrt{1-v^2/c^2}} = \\gamma c^2.\n",
    "\\end{equation}\n",
    "Thus, the speed is conserved along the motion. On the other hand, the azimuthal symmetry also implies the particle angular momentum is also conserved,\n",
    "\n",
    "\\begin{equation}\n",
    "P := \\frac{\\partial \\mathcal{L}}{\\partial \\dot{\\phi}} = \\frac{\\dot{\\phi} r^2 \\sin^2{\\theta}}{\\sqrt{1-v^2/c^2} }+ e A(r,\\theta) r \\sin{\\theta}  = \\gamma \\dot{\\phi} r^2 \\sin^2{\\theta} + e A(r,\\theta) r \\sin{\\theta},\n",
    "\\end{equation}\n",
    "\n",
    "In spherical coordinates the complete system of equations becomes:\n",
    "\n",
    "\n",
    "\\begin{eqnarray}\n",
    "\\frac{\\partial \\phi}{dt} & = & \\frac{h}{\\gamma r\\sin \\theta}, \\quad h = \\left[\\frac{P}{r\\sin{\\theta}} - e A\\right]  \\\\\n",
    "\\frac{\\partial \\dot{r}}{dt} & = & e\\frac{1}{\\gamma}\\frac{\\partial(rA)}{\\partial r} \\sin{\\theta} \\dot{\\phi} + \\frac{v^2 - \\dot{r}^2}{r}  \\\\\n",
    "\\frac{\\partial \\dot{\\theta}}{dt} & = & \\left[\\frac{e}{\\gamma} \\frac{1}{r}\\frac{\\partial(\\sin{\\theta}A)}{\\partial\\theta} + \\sin{\\theta}\\cos{\\theta} \\dot{\\phi}\\right]\\dot{\\phi} - 2\\frac{\\dot{r}}{r}\\dot{\\theta}\n",
    "\\end{eqnarray}\n",
    "\n",
    "\n",
    "\n",
    "Since the energy conservation implies the conservation of v2, using the expression for the angular momentum we obtain,\n",
    "\\begin{equation}\n",
    "v^2 = \\dot{r}^2 + r^2 \\dot{\\theta}^2 + r^2 \\sin^2{\\theta} \\dot{\\phi}^2 \\dot{r}^2 + r^2 \\dot{\\theta}^2 = v^2 - \\frac{h^2}{\\gamma^2}.\n",
    "\\end{equation}\n",
    "\n",
    "\n",
    "\n",
    "Therefore the movement is only possible when $h^2 = \\left[\\frac{P}{r\\sin{\\theta}} - e A\\right]^2 < v^2\\gamma^2$. For a generic multipole we have, \n",
    "\\begin{equation}\n",
    "A(r,\\theta) = \\frac{a_n}{r^{n+1}}P^1_n(\\cos{\\theta}).\n",
    "\\end{equation}"
   ]
  },
  {
   "cell_type": "markdown",
   "metadata": {},
   "source": [
    "### El Caso Dipolar"
   ]
  },
  {
   "cell_type": "markdown",
   "metadata": {},
   "source": [
    "Para el caso, $ P^1_1(\\cos \\theta) = -\\sin(\\theta) $\n",
    "\n",
    "Definimos $e a_1 = a_0 $\n",
    "\n",
    "\\begin{eqnarray}\n",
    "\\frac{\\partial \\phi}{dt} & = & \\frac{h}{\\gamma r\\sin{\\theta}} \\quad h = \\left[\\frac{P}{r\\sin{\\theta}} + \\frac{a_0}{r^2}\\sin{\\theta}\\right] \\\\\n",
    "\\frac{\\partial \\dot{r}}{dt} & = &  \\frac{1}{\\gamma}\\frac{a_0}{r^2} \\sin^2{\\theta} \\dot{\\phi} + \\frac{v^2 - \\dot{r}^2}{r} \\\\\n",
    "\\frac{\\partial \\dot{\\theta}}{dt} & = & \\left[- \\frac{2a_0}{\\gamma r^3} +  \\dot{\\phi}\\right]\\dot{\\phi}\\sin{\\theta}\\cos{\\theta}  - 2\\frac{\\dot{r}}{r}\\dot{\\theta} \n",
    "\\end{eqnarray}\n",
    "\n",
    "Donde\n",
    "\n",
    "\\begin{equation}\n",
    "v^2 = \\frac{\\dot{r}^2 + r^2 \\dot{\\theta}^2 + h^2}{1+h^2},\n",
    "\\end{equation}\n",
    "\n",
    "es constante a lo largo del movimiento. Por tanto, únicamente necesitamos resolver para\n",
    "$ U = (r, \\dot{r}, \\theta, \\dot{\\theta}) $, pero también resolvemos a lo largo de\n",
    "$ \\phi $ tal que podemos fácilmente graficar las soluciones. Por lo tanto, nuestra solución\n",
    "vectorial es $ U = (r, \\dot{r}, \\theta, \\dot{\\theta}) $."
   ]
  },
  {
   "cell_type": "code",
   "execution_count": 7,
   "metadata": {},
   "outputs": [],
   "source": [
    "# Computa numericamente las orbitas de un electron en un campo magnetico externo de forma\n",
    "# dipolar\n",
    "#\n",
    "import matplotlib as plt\n",
    "import numpy as np\n",
    "import matplotlib\n",
    "#matplotlib.use('TKAgg')\n",
    "import matplotlib.pyplot as plt\n",
    "from scipy.integrate import ode\n",
    "import matplotlib.animation as animation\n",
    "from mpl_toolkits.mplot3d import Axes3D"
   ]
  },
  {
   "cell_type": "markdown",
   "metadata": {},
   "source": [
    " Here we put some of the parameters that enter the equations. For slow particles (simpler to evolve, but with all the complexity) $ a = 0.1 $, pert $= 0.01$, T=6000−20000, Tol=10−8. For faster particles (harder to evolve) a=1.0, pert=0.1, T=200−400, Tol=10−10. The fastest is a=10.0, pert=0.8, T=10−20, Tol=10−12. This is very hard for the integrator we are using. I recomment to play with the slowest one, it has a nicer structure."
   ]
  },
  {
   "cell_type": "code",
   "execution_count": 8,
   "metadata": {},
   "outputs": [],
   "source": [
    "a = 10.0  # field amplitude (reescaled with e, m and c)\n",
    "#a = 0.1\n",
    "p = -1. * a # angular momentum (reescaled with m and a). \n",
    "# With this value there is a part of h^2 < 1 which is disconected from the outside\n",
    "#pert = 0.01 # this gives bounded orbits. This value enters in theta_dot, so it is de departure from plane orbits\n",
    "#pert = 0.1\n",
    "pert = 0.8 # for faster particles\n",
    "# Integration time\n",
    "#T_f = 6000\n",
    "T_f = 200\n",
    "#T_f=2\n",
    "# maximum step error on the integration\n",
    "reltol=1e-8\n",
    "#abstol=1e-8; # for slower\n",
    "#reltol=1e-10\n",
    "#abstol=1e-10; # for slower\n",
    "#reltol=1e-12\n",
    "abstol=1e-12; # for faster"
   ]
  },
  {
   "cell_type": "markdown",
   "metadata": {},
   "source": [
    " Next we give the initial conditions. We start from the equatorial plane, at r=1. With no radial velocity. The off-plane velocity is small, and is given by the pert parameter. The ϕ velocity is obtained from the value of the given angular momentum. Thus, we know the total velocity after wards, and we need to check it is smaller that the speed of light!"
   ]
  },
  {
   "cell_type": "code",
   "execution_count": 9,
   "metadata": {},
   "outputs": [],
   "source": [
    "# Primero las condiciones iniciales U=(rho,rho_t,theta, theta_t,phi)\n",
    "N=5\n",
    "T_0 = 0.\n",
    "rho0 = 1.\n",
    "#rho_t0 = -0.02\n",
    "rho_t0 = -0.0\n",
    "#pert = 0.000000000000000\n",
    "pert = 0.8\n",
    "theta0 = np.pi/2.0\n",
    "theta_t0 = pert\n",
    "phi0 = 0\n",
    "\n",
    "h0 = (p/rho0/np.sin(theta0) + a*np.sin(theta0)/rho0/rho0)\n",
    "h20 = h0*h0\n",
    "v2 = (rho_t0*rho_t0 + rho0*rho0*(theta_t0*theta_t0) + h20) / (1.+h20)\n",
    "\n",
    "if (v2 > 0.99):\n",
    "    print('velocidad demasiado alta! v2=%f', v2)\n",
    "    exit()\n",
    "gamma = np.sqrt(1.-v2)                        \n",
    "\n",
    "u0 = [rho0, rho_t0, theta0, theta_t0, phi0]"
   ]
  },
  {
   "cell_type": "markdown",
   "metadata": {},
   "source": [
    " We now plot the regions $ h^2 − 1 = $ constant = $\\left[\\frac{P}{r\\sin \\theta} + \\frac{a_0}{r^2}\\sin \\theta \\right]^2 − 1$ to see where are the bounded, and possible, propagation regions. Namely those regions for wich $h^2 - 1 < 0$ (Only in the Julia version)"
   ]
  },
  {
   "cell_type": "code",
   "execution_count": 10,
   "metadata": {},
   "outputs": [],
   "source": [
    "# Luego definimos la funcion del integrador, o sea la ecuacion\n",
    "\n",
    "def f(x, u):\n",
    "    sint = np.sin(u[2])\n",
    "    cost = np.cos(u[2])\n",
    "    phi_t = (p/u[0]/sint + a/u[0]/u[0]*sint)/u[0]/sint/gamma\n",
    "    \n",
    "    return [u[1], a/u[0]/u[0]*sint*sint*phi_t/gamma + (v2 - u[1]*u[1])/u[0],u[3],\n",
    "            (-2.*a/u[0]/u[0]/u[0]/gamma + phi_t)*phi_t*sint*cost - 2.*u[1]*u[3]/u[0],phi_t]"
   ]
  },
  {
   "cell_type": "code",
   "execution_count": null,
   "metadata": {},
   "outputs": [],
   "source": []
  },
  {
   "cell_type": "code",
   "execution_count": null,
   "metadata": {},
   "outputs": [],
   "source": []
  }
 ],
 "metadata": {
  "kernelspec": {
   "display_name": "Python 3",
   "language": "python",
   "name": "python3"
  },
  "language_info": {
   "codemirror_mode": {
    "name": "ipython",
    "version": 3
   },
   "file_extension": ".py",
   "mimetype": "text/x-python",
   "name": "python",
   "nbconvert_exporter": "python",
   "pygments_lexer": "ipython3",
   "version": "3.8.2"
  }
 },
 "nbformat": 4,
 "nbformat_minor": 4
}
